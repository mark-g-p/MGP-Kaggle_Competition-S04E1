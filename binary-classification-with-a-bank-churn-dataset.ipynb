{
 "cells": [
  {
   "cell_type": "code",
   "execution_count": 1,
   "id": "35cedeb6",
   "metadata": {
    "_cell_guid": "b1076dfc-b9ad-4769-8c92-a6c4dae69d19",
    "_uuid": "8f2839f25d086af736a60e9eeb907d3b93b6e0e5",
    "execution": {
     "iopub.execute_input": "2024-02-27T15:11:55.042285Z",
     "iopub.status.busy": "2024-02-27T15:11:55.041721Z",
     "iopub.status.idle": "2024-02-27T15:12:01.320222Z",
     "shell.execute_reply": "2024-02-27T15:12:01.319143Z"
    },
    "papermill": {
     "duration": 6.29177,
     "end_time": "2024-02-27T15:12:01.323087",
     "exception": false,
     "start_time": "2024-02-27T15:11:55.031317",
     "status": "completed"
    },
    "tags": []
   },
   "outputs": [],
   "source": [
    "from sklearn.model_selection import train_test_split\n",
    "from sklearn.metrics import roc_auc_score, classification_report\n",
    "from sklearn.preprocessing import LabelEncoder, OneHotEncoder, StandardScaler, Normalizer, MinMaxScaler, RobustScaler\n",
    "from sklearn.compose import ColumnTransformer\n",
    "from sklearn.base import BaseEstimator, TransformerMixin\n",
    "from sklearn.linear_model import LogisticRegression\n",
    "import sklearn\n",
    "import optuna\n",
    "from optuna.samplers import TPESampler\n",
    "import pickle\n",
    "import numpy as np\n",
    "import pandas as pd\n",
    "from sklearn.pipeline import Pipeline\n",
    "\n",
    "from sklearn.impute import SimpleImputer, KNNImputer\n",
    "from sklearn.preprocessing import RobustScaler, Normalizer\n",
    "\n",
    "from optuna import Trial\n",
    "from category_encoders import WOEEncoder\n",
    "\n",
    "import lightgbm as lgb"
   ]
  },
  {
   "cell_type": "code",
   "execution_count": 2,
   "id": "d6cf319c",
   "metadata": {
    "execution": {
     "iopub.execute_input": "2024-02-27T15:12:01.341554Z",
     "iopub.status.busy": "2024-02-27T15:12:01.341139Z",
     "iopub.status.idle": "2024-02-27T15:12:01.348557Z",
     "shell.execute_reply": "2024-02-27T15:12:01.347266Z"
    },
    "papermill": {
     "duration": 0.019456,
     "end_time": "2024-02-27T15:12:01.350976",
     "exception": false,
     "start_time": "2024-02-27T15:12:01.331520",
     "status": "completed"
    },
    "tags": []
   },
   "outputs": [],
   "source": [
    "class TargetEncoder(BaseEstimator, TransformerMixin):\n",
    "    def __init__(self):\n",
    "        self.encoder = LabelEncoder()\n",
    "\n",
    "    def fit(self, y):\n",
    "        self.encoder.fit(y)\n",
    "        return self\n",
    "\n",
    "    def transform(self, y):\n",
    "        return self.encoder.transform(y)\n",
    "\n",
    "    def inverse_transform(self, y):\n",
    "        return self.encoder.inverse_transform(y)"
   ]
  },
  {
   "cell_type": "code",
   "execution_count": 3,
   "id": "b750c699",
   "metadata": {
    "execution": {
     "iopub.execute_input": "2024-02-27T15:12:01.369422Z",
     "iopub.status.busy": "2024-02-27T15:12:01.368979Z",
     "iopub.status.idle": "2024-02-27T15:12:02.375454Z",
     "shell.execute_reply": "2024-02-27T15:12:02.374172Z"
    },
    "papermill": {
     "duration": 1.019479,
     "end_time": "2024-02-27T15:12:02.378701",
     "exception": false,
     "start_time": "2024-02-27T15:12:01.359222",
     "status": "completed"
    },
    "tags": []
   },
   "outputs": [],
   "source": [
    "train_b=pd.read_csv('/kaggle/input/playground-series-s4e1/train.csv')\n",
    "test=pd.read_csv('/kaggle/input/playground-series-s4e1/test.csv')\n",
    "train_org=pd.read_csv('/kaggle/input/bank-customer-churn-prediction/Churn_Modelling.csv')\n",
    "\n",
    "train_b.drop(columns=['id'], inplace=True)\n",
    "test.drop(columns=['id'], inplace=True)\n",
    "train_org.drop(columns=['RowNumber'], inplace=True)\n",
    "\n",
    "# train = train_b\n",
    "train=pd.concat([train_b, train_org], ignore_index=True)\n",
    "\n",
    "X = train.drop(['Exited','Surname'], axis=1)\n",
    "test = test.drop(['Surname'], axis=1)\n",
    "y = train['Exited']\n",
    "\n",
    "encoder = TargetEncoder()\n",
    "y = encoder.fit_transform(train['Exited'])\n",
    "\n",
    "X_train, X_test, y_train, y_test = sklearn.model_selection.train_test_split(X, y, test_size=0.1, random_state=0)"
   ]
  },
  {
   "cell_type": "code",
   "execution_count": 4,
   "id": "21c28ab0",
   "metadata": {
    "execution": {
     "iopub.execute_input": "2024-02-27T15:12:02.398183Z",
     "iopub.status.busy": "2024-02-27T15:12:02.397751Z",
     "iopub.status.idle": "2024-02-27T15:12:02.406911Z",
     "shell.execute_reply": "2024-02-27T15:12:02.405261Z"
    },
    "papermill": {
     "duration": 0.02154,
     "end_time": "2024-02-27T15:12:02.409580",
     "exception": false,
     "start_time": "2024-02-27T15:12:02.388040",
     "status": "completed"
    },
    "tags": []
   },
   "outputs": [],
   "source": [
    "from sklearn.impute import SimpleImputer\n",
    "from optuna import Trial\n",
    "\n",
    "def instantiate_numerical_simple_imputer(trial : Trial, fill_value : int=-1) -> SimpleImputer:\n",
    "  strategy = trial.suggest_categorical(\n",
    "    'numerical_strategy', ['mean', 'median', 'most_frequent', 'constant']\n",
    "  )\n",
    "  return SimpleImputer(strategy=strategy, fill_value=fill_value)\n",
    "\n",
    "def instantiate_categorical_simple_imputer(trial : Trial, fill_value : str='missing') -> SimpleImputer:\n",
    "  strategy = trial.suggest_categorical(\n",
    "    'categorical_strategy', ['most_frequent', 'constant']\n",
    "  )\n",
    "  return SimpleImputer(strategy=strategy, fill_value=fill_value)"
   ]
  },
  {
   "cell_type": "code",
   "execution_count": 5,
   "id": "cadcd98d",
   "metadata": {
    "execution": {
     "iopub.execute_input": "2024-02-27T15:12:02.428633Z",
     "iopub.status.busy": "2024-02-27T15:12:02.427801Z",
     "iopub.status.idle": "2024-02-27T15:12:02.434590Z",
     "shell.execute_reply": "2024-02-27T15:12:02.433323Z"
    },
    "papermill": {
     "duration": 0.019274,
     "end_time": "2024-02-27T15:12:02.437219",
     "exception": false,
     "start_time": "2024-02-27T15:12:02.417945",
     "status": "completed"
    },
    "tags": []
   },
   "outputs": [],
   "source": [
    "from category_encoders import WOEEncoder\n",
    "\n",
    "def instantiate_woe_encoder(trial : Trial) -> WOEEncoder:\n",
    "  params = {\n",
    "    'sigma': trial.suggest_float('sigma', 0.001, 5),\n",
    "    'regularization': trial.suggest_float('regularization', 0, 5),\n",
    "    'randomized': trial.suggest_categorical('randomized', [True, False])\n",
    "  }\n",
    "  return WOEEncoder(**params)"
   ]
  },
  {
   "cell_type": "code",
   "execution_count": 6,
   "id": "7df64d83",
   "metadata": {
    "execution": {
     "iopub.execute_input": "2024-02-27T15:12:02.455601Z",
     "iopub.status.busy": "2024-02-27T15:12:02.455179Z",
     "iopub.status.idle": "2024-02-27T15:12:02.461406Z",
     "shell.execute_reply": "2024-02-27T15:12:02.460134Z"
    },
    "papermill": {
     "duration": 0.018314,
     "end_time": "2024-02-27T15:12:02.463743",
     "exception": false,
     "start_time": "2024-02-27T15:12:02.445429",
     "status": "completed"
    },
    "tags": []
   },
   "outputs": [],
   "source": [
    "from sklearn.preprocessing import RobustScaler\n",
    "\n",
    "def instantiate_robust_scaler(trial : Trial) -> RobustScaler:\n",
    "    params = {\n",
    "        'with_centering': trial.suggest_categorical(\n",
    "        'with_centering', [True, False]\n",
    "    ),\n",
    "    'with_scaling': trial.suggest_categorical(\n",
    "      'with_scaling', [True, False]\n",
    "    )\n",
    "    }\n",
    "    return RobustScaler(**params)"
   ]
  },
  {
   "cell_type": "code",
   "execution_count": 7,
   "id": "7ad553de",
   "metadata": {
    "execution": {
     "iopub.execute_input": "2024-02-27T15:12:02.483409Z",
     "iopub.status.busy": "2024-02-27T15:12:02.482975Z",
     "iopub.status.idle": "2024-02-27T15:12:02.682233Z",
     "shell.execute_reply": "2024-02-27T15:12:02.681141Z"
    },
    "papermill": {
     "duration": 0.212487,
     "end_time": "2024-02-27T15:12:02.684937",
     "exception": false,
     "start_time": "2024-02-27T15:12:02.472450",
     "status": "completed"
    },
    "tags": []
   },
   "outputs": [],
   "source": [
    "import xgboost as xgb\n",
    "\n",
    "def instantiate_xgb(trial : Trial) -> xgb.XGBClassifier:\n",
    "    params={\n",
    "            'eval_metric': 'auc',\n",
    "            'lambda': trial.suggest_float( 'xgb_lambda',1e-06, 1e-03),\n",
    "            'alpha':  trial.suggest_float( 'xgb_alpha',0.00001, 0.01),\n",
    "            'max_depth': trial.suggest_int('xgb_max_depth', 1, 40),\n",
    "            'eta': trial.suggest_float( 'xgb_eta',0.00001, 0.01),\n",
    "            'gamma': trial.suggest_float( 'xgb_gamma',1e-08, 1e-05),\n",
    "            'n_estimators': trial.suggest_int('xgb_n_estimators', 50, 1000),\n",
    "            'learning_rate': trial.suggest_float( 'xgb_learning_rate',0.001, 1),\n",
    "            'tree_method': 'hist', \n",
    "#             'device': 'cuda',\n",
    "           }\n",
    "    return xgb.XGBClassifier(**params)"
   ]
  },
  {
   "cell_type": "code",
   "execution_count": 8,
   "id": "5ce06b72",
   "metadata": {
    "execution": {
     "iopub.execute_input": "2024-02-27T15:12:02.703868Z",
     "iopub.status.busy": "2024-02-27T15:12:02.703458Z",
     "iopub.status.idle": "2024-02-27T15:12:02.935068Z",
     "shell.execute_reply": "2024-02-27T15:12:02.933772Z"
    },
    "papermill": {
     "duration": 0.244397,
     "end_time": "2024-02-27T15:12:02.937964",
     "exception": false,
     "start_time": "2024-02-27T15:12:02.693567",
     "status": "completed"
    },
    "tags": []
   },
   "outputs": [],
   "source": [
    "from catboost import CatBoostClassifier\n",
    "\n",
    "def instantiate_catb(trial : Trial) -> CatBoostClassifier:\n",
    "    params = {\n",
    "        'logging_level': 'Silent', \n",
    "        'random_seed': 0, \n",
    "        'iterations':  trial.suggest_int('catb_iterations', 50, 1000),\n",
    "        'depth': trial.suggest_int('catb_depth', 10, 200),\n",
    "        'min_data_in_leaf': trial.suggest_int('catb_min_data_in_leaf', 5, 200),\n",
    "        'learning_rate': trial.suggest_float( 'catb_learning_rate',0.001, 1),\n",
    "        'subsample': trial.suggest_float( 'catb_subsample',0.01, 1),\n",
    "        'random_strength': trial.suggest_float( 'catb_random_strength',0.01, 1),\n",
    "        'eval_metric' : 'AUC',\n",
    "        'grow_policy': 'Lossguide',\n",
    "        'bootstrap_type' : 'Bernoulli',\n",
    "#         'task_type':\"GPU\"\n",
    "}\n",
    "    return CatBoostClassifier(**params)"
   ]
  },
  {
   "cell_type": "code",
   "execution_count": 9,
   "id": "3a522472",
   "metadata": {
    "execution": {
     "iopub.execute_input": "2024-02-27T15:12:02.955937Z",
     "iopub.status.busy": "2024-02-27T15:12:02.955542Z",
     "iopub.status.idle": "2024-02-27T15:12:02.964329Z",
     "shell.execute_reply": "2024-02-27T15:12:02.963143Z"
    },
    "papermill": {
     "duration": 0.020753,
     "end_time": "2024-02-27T15:12:02.966782",
     "exception": false,
     "start_time": "2024-02-27T15:12:02.946029",
     "status": "completed"
    },
    "tags": []
   },
   "outputs": [],
   "source": [
    "from lightgbm import LGBMClassifier\n",
    "\n",
    "def instantiate_lgbm(trial : Trial) -> LGBMClassifier:\n",
    "    params = {\n",
    "        'metric': 'auc', \n",
    "        'max_depth': trial.suggest_int('lgbm_max_depth', 1, 50),\n",
    "        'min_child_samples': trial.suggest_int('lgbm_min_child_samples', 1, 20), \n",
    "        'learning_rate': trial.suggest_float( 'lgbm_learning_rate',0.001, 1),\n",
    "        'n_estimators': trial.suggest_int('lgbm_n_estimators', 50, 1000),\n",
    "        'min_child_weight': trial.suggest_int('lgbm_min_child_weight', 1, 20), \n",
    "        'subsample': trial.suggest_float( 'lgbm_subsample',0.01, 1),\n",
    "        'colsample_bytree':trial.suggest_float( 'lgbm_colsample_bytree',0.01, 1),\n",
    "        'reg_alpha':trial.suggest_float( 'lgbm_reg_alpha',0.01, 1), \n",
    "        'reg_lambda': trial.suggest_float( 'lgbm_reg_lambda',0.01, 1),\n",
    "        'random_state': 42,\n",
    "        'verbose': -1,\n",
    "#         'device':\"gpu\" \n",
    "    }\n",
    "    return LGBMClassifier(**params)"
   ]
  },
  {
   "cell_type": "code",
   "execution_count": 10,
   "id": "626699c5",
   "metadata": {
    "execution": {
     "iopub.execute_input": "2024-02-27T15:12:02.985527Z",
     "iopub.status.busy": "2024-02-27T15:12:02.985112Z",
     "iopub.status.idle": "2024-02-27T15:12:02.992133Z",
     "shell.execute_reply": "2024-02-27T15:12:02.990837Z"
    },
    "papermill": {
     "duration": 0.01978,
     "end_time": "2024-02-27T15:12:02.994773",
     "exception": false,
     "start_time": "2024-02-27T15:12:02.974993",
     "status": "completed"
    },
    "tags": []
   },
   "outputs": [],
   "source": [
    "def instantiate_lr(trial : Trial) -> LogisticRegression:\n",
    "    params = {\n",
    "        'max_iter': trial.suggest_int('lr_max_iter',5000, 10000, log=True),\n",
    "        'C': trial.suggest_float('lr_C',0.001, 100, log=True),\n",
    "        'tol': trial.suggest_float('lr_tol', 0.0001, 1, log=True),\n",
    "#         'warm_start': True,\n",
    "        'solver':'lbfgs',\n",
    "    }\n",
    "    return LogisticRegression(**params)"
   ]
  },
  {
   "cell_type": "code",
   "execution_count": 11,
   "id": "b05faec0",
   "metadata": {
    "execution": {
     "iopub.execute_input": "2024-02-27T15:12:03.013273Z",
     "iopub.status.busy": "2024-02-27T15:12:03.012854Z",
     "iopub.status.idle": "2024-02-27T15:12:03.020381Z",
     "shell.execute_reply": "2024-02-27T15:12:03.019221Z"
    },
    "papermill": {
     "duration": 0.019737,
     "end_time": "2024-02-27T15:12:03.022657",
     "exception": false,
     "start_time": "2024-02-27T15:12:03.002920",
     "status": "completed"
    },
    "tags": []
   },
   "outputs": [],
   "source": [
    "from sklearn.pipeline import Pipeline\n",
    "\n",
    "def instantiate_numerical_pipeline(trial : Trial) -> Pipeline:\n",
    "  pipeline = Pipeline([\n",
    "    ('imputer', instantiate_numerical_simple_imputer(trial)),\n",
    "    ('scaler', instantiate_robust_scaler(trial))\n",
    "  ])\n",
    "  return pipeline\n",
    "\n",
    "def instantiate_categorical_pipeline(trial : Trial) -> Pipeline:\n",
    "  pipeline = Pipeline([\n",
    "    ('imputer', instantiate_categorical_simple_imputer(trial)),\n",
    "    ('encoder', instantiate_woe_encoder(trial))\n",
    "  ])\n",
    "  return pipeline"
   ]
  },
  {
   "cell_type": "code",
   "execution_count": 12,
   "id": "25a94534",
   "metadata": {
    "execution": {
     "iopub.execute_input": "2024-02-27T15:12:03.040770Z",
     "iopub.status.busy": "2024-02-27T15:12:03.040346Z",
     "iopub.status.idle": "2024-02-27T15:12:03.051084Z",
     "shell.execute_reply": "2024-02-27T15:12:03.050055Z"
    },
    "papermill": {
     "duration": 0.022839,
     "end_time": "2024-02-27T15:12:03.053551",
     "exception": false,
     "start_time": "2024-02-27T15:12:03.030712",
     "status": "completed"
    },
    "tags": []
   },
   "outputs": [],
   "source": [
    "from sklearn.compose import ColumnTransformer\n",
    "\n",
    "def instantiate_processor(trial : Trial, numerical_columns : list[str], categorical_columns : list[str]) -> ColumnTransformer:\n",
    "  \n",
    "  numerical_pipeline = instantiate_numerical_pipeline(trial)\n",
    "  categorical_pipeline = instantiate_categorical_pipeline(trial)\n",
    "  \n",
    "  processor = ColumnTransformer([\n",
    "    ('numerical_pipeline', numerical_pipeline, numerical_columns),\n",
    "    ('categorical_pipeline', categorical_pipeline, categorical_columns)\n",
    "  ])\n",
    "  \n",
    "  return processor\n",
    "\n",
    "def instantiate_model(trial : Trial, numerical_columns : list[str], categorical_columns : list[str], classifier_name : str) -> Pipeline:\n",
    "    processor = instantiate_processor(trial, numerical_columns, categorical_columns)\n",
    "    model = Pipeline([('processor', processor),])\n",
    "    if classifier_name == \"XGB\":\n",
    "        xgb = instantiate_xgb(trial)\n",
    "        model.steps.append(['XGB', xgb])\n",
    "    elif classifier_name == \"CatB\":\n",
    "        catb = instantiate_catb(trial)\n",
    "        model.steps.append(['CatB', catb])\n",
    "    elif classifier_name == \"LGBM\":\n",
    "        lgbm = instantiate_lgbm(trial)\n",
    "        model.steps.append(['LGBM', lgbm])\n",
    "    elif classifier_name == \"LogR\":\n",
    "        lr = instantiate_lr(trial)\n",
    "        model.steps.append(['LogR', lr])\n",
    "    \n",
    "    return model\n",
    "\n"
   ]
  },
  {
   "cell_type": "code",
   "execution_count": 13,
   "id": "bcf39077",
   "metadata": {
    "execution": {
     "iopub.execute_input": "2024-02-27T15:12:03.071807Z",
     "iopub.status.busy": "2024-02-27T15:12:03.071383Z",
     "iopub.status.idle": "2024-02-27T15:12:03.081818Z",
     "shell.execute_reply": "2024-02-27T15:12:03.080916Z"
    },
    "papermill": {
     "duration": 0.022556,
     "end_time": "2024-02-27T15:12:03.084244",
     "exception": false,
     "start_time": "2024-02-27T15:12:03.061688",
     "status": "completed"
    },
    "tags": []
   },
   "outputs": [],
   "source": [
    "from typing import Optional\n",
    "from sklearn.model_selection import cross_val_score, KFold\n",
    "from sklearn.metrics import roc_auc_score, make_scorer\n",
    "from pandas import DataFrame, Series\n",
    "import numpy as np\n",
    "\n",
    "def objective_single(trial : Trial, X : DataFrame, y : np.ndarray | Series, numerical_columns : Optional[list[str]]=None, categorical_columns : Optional[list[str]]=None, random_state : int=42) -> float:\n",
    "    if numerical_columns is None:\n",
    "        numerical_columns = [\n",
    "          *X.select_dtypes(exclude=['object', 'category']).columns\n",
    "    ]\n",
    "  \n",
    "    if categorical_columns is None:\n",
    "        categorical_columns = [\n",
    "      *X.select_dtypes(include=['object', 'category']).columns\n",
    "    ]\n",
    "  \n",
    "    model = instantiate_model(trial, numerical_columns, categorical_columns, \"LogR\")\n",
    "  \n",
    "    kf = KFold(n_splits=5, shuffle=True, random_state=random_state)\n",
    "    roc_auc_scorer = make_scorer(roc_auc_score, needs_proba=True)\n",
    "    scores = cross_val_score(model, X, y, scoring=roc_auc_scorer, cv=kf)\n",
    "    return np.min([np.mean(scores), np.median([scores])])\n",
    "\n"
   ]
  },
  {
   "cell_type": "code",
   "execution_count": 14,
   "id": "297892e8",
   "metadata": {
    "execution": {
     "iopub.execute_input": "2024-02-27T15:12:03.102749Z",
     "iopub.status.busy": "2024-02-27T15:12:03.101966Z",
     "iopub.status.idle": "2024-02-27T15:12:03.112696Z",
     "shell.execute_reply": "2024-02-27T15:12:03.111520Z"
    },
    "papermill": {
     "duration": 0.022313,
     "end_time": "2024-02-27T15:12:03.114835",
     "exception": false,
     "start_time": "2024-02-27T15:12:03.092522",
     "status": "completed"
    },
    "tags": []
   },
   "outputs": [],
   "source": [
    "models = {\n",
    " 'XGB':{\n",
    "            'xgb_numerical_strategy': 'most_frequent',\n",
    "            'xgb_with_centering': False,\n",
    "            'xgb_with_scaling': False,\n",
    "            'xgb_categorical_strategy': 'most_frequent',\n",
    "            'xgb_sigma': 3.729290980204139,\n",
    "            'xgb_regularization': 4.525593729070233,\n",
    "            'xgb_randomized': False,\n",
    "            'xgb_lambda': 9.80216226429736e-05,\n",
    "            'xgb_alpha': 0.00247707065685737,\n",
    "            'xgb_max_depth': 7,\n",
    "            'xgb_eta': 0.000949921634938113,\n",
    "            'xgb_gamma': 8.432433257204815e-07,\n",
    "            'xgb_n_estimators': 597,\n",
    "            'xgb_learning_rate': 0.0704490770938814},\n",
    " \n",
    " 'CatB':{\n",
    "            'catb_numerical_strategy': 'most_frequent',\n",
    "            'catb_with_centering': True,\n",
    "            'catb_with_scaling': False,\n",
    "            'catb_categorical_strategy': 'most_frequent',\n",
    "            'catb_sigma': 1.0102999809269857,\n",
    "            'catb_regularization': 0.005134854246679088,\n",
    "            'catb_randomized': False,\n",
    "            'catb_iterations': 512,\n",
    "            'catb_depth': 151,\n",
    "            'catb_min_data_in_leaf': 200,\n",
    "            'catb_learning_rate': 0.026405733602736736,\n",
    "            'catb_subsample': 0.8789512739723611,\n",
    "            'catb_random_strength': 0.268413400762971},\n",
    " \n",
    " 'LGBM':{\n",
    "            'lgbm_numerical_strategy': 'most_frequent',\n",
    "            'lgbm_with_centering': False,\n",
    "            'lgbm_with_scaling': False,\n",
    "            'lgbm_categorical_strategy': 'most_frequent',\n",
    "            'lgbm_sigma': 0.24133299951881426, \n",
    "            'lgbm_regularization': 1.9467558269802216, \n",
    "            'lgbm_randomized': False, \n",
    "            'lgbm_max_depth': 12, \n",
    "            'lgbm_learning_rate': 0.018029136438413307,\n",
    "            'lgbm_n_estimators': 888,\n",
    "            'lgbm_subsample': 0.16889238269740878,\n",
    "            'lgbm_colsample_bytree': 0.5758061565891749,\n",
    "            'lgbm_reg_alpha': 0.877129013958167, \n",
    "            'lgbm_reg_lambda': 0.474890927333532},\n",
    "    \n",
    " 'LogR':{'lr_max_iter': 3673,\n",
    "         'lr_C': 0.0016492543471898426,\n",
    "         'lr_tol': 0.03959339746440095},\n",
    "}"
   ]
  },
  {
   "cell_type": "code",
   "execution_count": 15,
   "id": "d665bae3",
   "metadata": {
    "execution": {
     "iopub.execute_input": "2024-02-27T15:12:03.134965Z",
     "iopub.status.busy": "2024-02-27T15:12:03.133849Z",
     "iopub.status.idle": "2024-02-27T15:12:03.250860Z",
     "shell.execute_reply": "2024-02-27T15:12:03.249696Z"
    },
    "papermill": {
     "duration": 0.129674,
     "end_time": "2024-02-27T15:12:03.253863",
     "exception": false,
     "start_time": "2024-02-27T15:12:03.124189",
     "status": "completed"
    },
    "tags": []
   },
   "outputs": [],
   "source": [
    "from sklearn.ensemble import StackingClassifier, ExtraTreesClassifier\n",
    "\n",
    "def instantiate_stacker(trial : Trial, numerical_columns : list[str], categorical_columns : list[str] ) -> StackingClassifier:\n",
    "    params = {\n",
    "        'n_estimators': trial.suggest_int('n_estimators', 50, 1000),\n",
    "        'max_depth': trial.suggest_int('max_depth', 1, 20),\n",
    "        'max_features': trial.suggest_float('max_features', 0, 1),\n",
    "        'bootstrap': trial.suggest_categorical('bootstrap', [True, False]),\n",
    "        'n_jobs': -1,\n",
    "        'random_state': 42,\n",
    "        'n_jobs':-1,\n",
    "        \n",
    "    }\n",
    "    model1 = instantiate_model(trial, numerical_columns, categorical_columns, \"XGB\")\n",
    "    model2 = instantiate_model(trial, numerical_columns, categorical_columns, \"CatB\")\n",
    "    model3 = instantiate_model(trial, numerical_columns, categorical_columns, \"LGBM\")\n",
    "    model4 = instantiate_model(trial, numerical_columns, categorical_columns, \"LogR\")\n",
    "    \n",
    "    level0 = [\n",
    "        ('model1',model1), \n",
    "        ('model2',model2),\n",
    "        ('model3',model3),\n",
    "        ('model4',model4)]\n",
    "    \n",
    "    level1 = ExtraTreesClassifier(**params)\n",
    "    meta_model = StackingClassifier(estimators=level0, final_estimator=level1, cv=5)\n",
    "    return meta_model"
   ]
  },
  {
   "cell_type": "code",
   "execution_count": 16,
   "id": "efa1f504",
   "metadata": {
    "execution": {
     "iopub.execute_input": "2024-02-27T15:12:03.272281Z",
     "iopub.status.busy": "2024-02-27T15:12:03.271851Z",
     "iopub.status.idle": "2024-02-27T15:12:03.420003Z",
     "shell.execute_reply": "2024-02-27T15:12:03.418683Z"
    },
    "papermill": {
     "duration": 0.160189,
     "end_time": "2024-02-27T15:12:03.422339",
     "exception": false,
     "start_time": "2024-02-27T15:12:03.262150",
     "status": "completed"
    },
    "tags": []
   },
   "outputs": [],
   "source": [
    "def objective(trial : Trial, X : DataFrame, y : np.ndarray | Series, numerical_columns : Optional[list[str]]=None, categorical_columns : Optional[list[str]]=None, random_state : int=42) -> float:\n",
    "    if numerical_columns is None:\n",
    "        numerical_columns = [\n",
    "          *X.select_dtypes(exclude=['object', 'category']).columns\n",
    "    ]\n",
    "  \n",
    "    if categorical_columns is None:\n",
    "        categorical_columns = [\n",
    "      *X.select_dtypes(include=['object', 'category']).columns\n",
    "    ]\n",
    "    \n",
    "    model = instantiate_stacker(trial, numerical_columns, categorical_columns)\n",
    "  \n",
    "    kf = KFold(n_splits=2, shuffle=True, random_state=random_state)\n",
    "    roc_auc_scorer = make_scorer(roc_auc_score, needs_proba=True)\n",
    "    scores = cross_val_score(model, X, y, scoring=roc_auc_scorer, cv=kf)\n",
    "    return np.min([np.mean(scores), np.median([scores])])\n"
   ]
  },
  {
   "cell_type": "code",
   "execution_count": 17,
   "id": "53ed22ab",
   "metadata": {
    "execution": {
     "iopub.execute_input": "2024-02-27T15:12:03.440769Z",
     "iopub.status.busy": "2024-02-27T15:12:03.440282Z",
     "iopub.status.idle": "2024-02-27T15:19:54.473775Z",
     "shell.execute_reply": "2024-02-27T15:19:54.472633Z"
    },
    "papermill": {
     "duration": 471.054144,
     "end_time": "2024-02-27T15:19:54.484647",
     "exception": false,
     "start_time": "2024-02-27T15:12:03.430503",
     "status": "completed"
    },
    "tags": []
   },
   "outputs": [
    {
     "name": "stderr",
     "output_type": "stream",
     "text": [
      "[I 2024-02-27 15:12:03,447] A new study created in memory with name: optimization\n",
      "[I 2024-02-27 15:19:54,469] Trial 0 finished with value: 0.8877968192695411 and parameters: {'n_estimators': 276, 'max_depth': 6, 'max_features': 0.815431846329508, 'bootstrap': False, 'numerical_strategy': 'median', 'with_centering': False, 'with_scaling': False, 'categorical_strategy': 'most_frequent', 'sigma': 0.5061308987241582, 'regularization': 0.9131708454111955, 'randomized': False, 'xgb_lambda': 2.8568825005909486e-05, 'xgb_alpha': 0.005109851856729309, 'xgb_max_depth': 10, 'xgb_eta': 0.005801612118752712, 'xgb_gamma': 9.016383631650964e-07, 'xgb_n_estimators': 626, 'xgb_learning_rate': 0.35435152425844973, 'catb_iterations': 760, 'catb_depth': 53, 'catb_min_data_in_leaf': 168, 'catb_learning_rate': 0.024179238250688007, 'catb_subsample': 0.2813943547300177, 'catb_random_strength': 0.8318716425051079, 'lgbm_max_depth': 7, 'lgbm_min_child_samples': 9, 'lgbm_learning_rate': 0.017852637947762904, 'lgbm_n_estimators': 656, 'lgbm_min_child_weight': 3, 'lgbm_subsample': 0.10350043889710368, 'lgbm_colsample_bytree': 0.6501457690789654, 'lgbm_reg_alpha': 0.6031771192732664, 'lgbm_reg_lambda': 0.8535631974964178, 'lr_max_iter': 5973, 'lr_C': 1.0827852350663947, 'lr_tol': 0.0032674314134142203}. Best is trial 0 with value: 0.8877968192695411.\n"
     ]
    }
   ],
   "source": [
    "from optuna import create_study\n",
    "\n",
    "\n",
    "study = create_study(study_name='optimization', direction='maximize')\n",
    "study.enqueue_trial({'n_estimators': 276, 'max_depth': 6, 'max_features': 0.815431846329508, 'bootstrap': False, 'numerical_strategy': 'median', 'with_centering': False, 'with_scaling': False, 'categorical_strategy': 'most_frequent', 'sigma': 0.5061308987241582, 'regularization': 0.9131708454111955, 'randomized': False, 'xgb_lambda': 2.8568825005909486e-05, 'xgb_alpha': 0.005109851856729309, 'xgb_max_depth': 10, 'xgb_eta': 0.005801612118752712, 'xgb_gamma': 9.016383631650964e-07, 'xgb_n_estimators': 626, 'xgb_learning_rate': 0.35435152425844973, 'catb_iterations': 760, 'catb_depth': 53, 'catb_min_data_in_leaf': 168, 'catb_learning_rate': 0.024179238250688007, 'catb_subsample': 0.2813943547300177, 'catb_random_strength': 0.8318716425051079, 'lgbm_max_depth': 7, 'lgbm_learning_rate': 0.017852637947762904, 'lgbm_n_estimators': 656, 'lgbm_subsample': 0.10350043889710368, 'lgbm_colsample_bytree': 0.6501457690789654, 'lgbm_reg_alpha': 0.6031771192732664, 'lgbm_reg_lambda': 0.8535631974964178, 'lr_max_iter': 5973, 'lr_C': 1.0827852350663947, 'lr_tol': 0.0032674314134142203})\n",
    "study.optimize(lambda trial: objective(trial, X_train, y_train), n_trials=1)"
   ]
  },
  {
   "cell_type": "code",
   "execution_count": 18,
   "id": "2c04833f",
   "metadata": {
    "execution": {
     "iopub.execute_input": "2024-02-27T15:19:54.503282Z",
     "iopub.status.busy": "2024-02-27T15:19:54.502830Z",
     "iopub.status.idle": "2024-02-27T15:19:54.510921Z",
     "shell.execute_reply": "2024-02-27T15:19:54.509910Z"
    },
    "papermill": {
     "duration": 0.019924,
     "end_time": "2024-02-27T15:19:54.513171",
     "exception": false,
     "start_time": "2024-02-27T15:19:54.493247",
     "status": "completed"
    },
    "tags": []
   },
   "outputs": [
    {
     "name": "stdout",
     "output_type": "stream",
     "text": [
      "Best parameters: {'n_estimators': 276, 'max_depth': 6, 'max_features': 0.815431846329508, 'bootstrap': False, 'numerical_strategy': 'median', 'with_centering': False, 'with_scaling': False, 'categorical_strategy': 'most_frequent', 'sigma': 0.5061308987241582, 'regularization': 0.9131708454111955, 'randomized': False, 'xgb_lambda': 2.8568825005909486e-05, 'xgb_alpha': 0.005109851856729309, 'xgb_max_depth': 10, 'xgb_eta': 0.005801612118752712, 'xgb_gamma': 9.016383631650964e-07, 'xgb_n_estimators': 626, 'xgb_learning_rate': 0.35435152425844973, 'catb_iterations': 760, 'catb_depth': 53, 'catb_min_data_in_leaf': 168, 'catb_learning_rate': 0.024179238250688007, 'catb_subsample': 0.2813943547300177, 'catb_random_strength': 0.8318716425051079, 'lgbm_max_depth': 7, 'lgbm_min_child_samples': 9, 'lgbm_learning_rate': 0.017852637947762904, 'lgbm_n_estimators': 656, 'lgbm_min_child_weight': 3, 'lgbm_subsample': 0.10350043889710368, 'lgbm_colsample_bytree': 0.6501457690789654, 'lgbm_reg_alpha': 0.6031771192732664, 'lgbm_reg_lambda': 0.8535631974964178, 'lr_max_iter': 5973, 'lr_C': 1.0827852350663947, 'lr_tol': 0.0032674314134142203}\n",
      "Best value: 0.8877968192695411\n"
     ]
    }
   ],
   "source": [
    "print('Best parameters:', study.best_params)\n",
    "print('Best value:', study.best_value)\n"
   ]
  },
  {
   "cell_type": "code",
   "execution_count": 19,
   "id": "6b486cf3",
   "metadata": {
    "execution": {
     "iopub.execute_input": "2024-02-27T15:19:54.532815Z",
     "iopub.status.busy": "2024-02-27T15:19:54.531726Z",
     "iopub.status.idle": "2024-02-27T15:26:33.394006Z",
     "shell.execute_reply": "2024-02-27T15:26:33.392833Z"
    },
    "papermill": {
     "duration": 398.885056,
     "end_time": "2024-02-27T15:26:33.406962",
     "exception": false,
     "start_time": "2024-02-27T15:19:54.521906",
     "status": "completed"
    },
    "tags": []
   },
   "outputs": [
    {
     "data": {
      "text/html": [
       "<style>#sk-container-id-1 {color: black;background-color: white;}#sk-container-id-1 pre{padding: 0;}#sk-container-id-1 div.sk-toggleable {background-color: white;}#sk-container-id-1 label.sk-toggleable__label {cursor: pointer;display: block;width: 100%;margin-bottom: 0;padding: 0.3em;box-sizing: border-box;text-align: center;}#sk-container-id-1 label.sk-toggleable__label-arrow:before {content: \"▸\";float: left;margin-right: 0.25em;color: #696969;}#sk-container-id-1 label.sk-toggleable__label-arrow:hover:before {color: black;}#sk-container-id-1 div.sk-estimator:hover label.sk-toggleable__label-arrow:before {color: black;}#sk-container-id-1 div.sk-toggleable__content {max-height: 0;max-width: 0;overflow: hidden;text-align: left;background-color: #f0f8ff;}#sk-container-id-1 div.sk-toggleable__content pre {margin: 0.2em;color: black;border-radius: 0.25em;background-color: #f0f8ff;}#sk-container-id-1 input.sk-toggleable__control:checked~div.sk-toggleable__content {max-height: 200px;max-width: 100%;overflow: auto;}#sk-container-id-1 input.sk-toggleable__control:checked~label.sk-toggleable__label-arrow:before {content: \"▾\";}#sk-container-id-1 div.sk-estimator input.sk-toggleable__control:checked~label.sk-toggleable__label {background-color: #d4ebff;}#sk-container-id-1 div.sk-label input.sk-toggleable__control:checked~label.sk-toggleable__label {background-color: #d4ebff;}#sk-container-id-1 input.sk-hidden--visually {border: 0;clip: rect(1px 1px 1px 1px);clip: rect(1px, 1px, 1px, 1px);height: 1px;margin: -1px;overflow: hidden;padding: 0;position: absolute;width: 1px;}#sk-container-id-1 div.sk-estimator {font-family: monospace;background-color: #f0f8ff;border: 1px dotted black;border-radius: 0.25em;box-sizing: border-box;margin-bottom: 0.5em;}#sk-container-id-1 div.sk-estimator:hover {background-color: #d4ebff;}#sk-container-id-1 div.sk-parallel-item::after {content: \"\";width: 100%;border-bottom: 1px solid gray;flex-grow: 1;}#sk-container-id-1 div.sk-label:hover label.sk-toggleable__label {background-color: #d4ebff;}#sk-container-id-1 div.sk-serial::before {content: \"\";position: absolute;border-left: 1px solid gray;box-sizing: border-box;top: 0;bottom: 0;left: 50%;z-index: 0;}#sk-container-id-1 div.sk-serial {display: flex;flex-direction: column;align-items: center;background-color: white;padding-right: 0.2em;padding-left: 0.2em;position: relative;}#sk-container-id-1 div.sk-item {position: relative;z-index: 1;}#sk-container-id-1 div.sk-parallel {display: flex;align-items: stretch;justify-content: center;background-color: white;position: relative;}#sk-container-id-1 div.sk-item::before, #sk-container-id-1 div.sk-parallel-item::before {content: \"\";position: absolute;border-left: 1px solid gray;box-sizing: border-box;top: 0;bottom: 0;left: 50%;z-index: -1;}#sk-container-id-1 div.sk-parallel-item {display: flex;flex-direction: column;z-index: 1;position: relative;background-color: white;}#sk-container-id-1 div.sk-parallel-item:first-child::after {align-self: flex-end;width: 50%;}#sk-container-id-1 div.sk-parallel-item:last-child::after {align-self: flex-start;width: 50%;}#sk-container-id-1 div.sk-parallel-item:only-child::after {width: 0;}#sk-container-id-1 div.sk-dashed-wrapped {border: 1px dashed gray;margin: 0 0.4em 0.5em 0.4em;box-sizing: border-box;padding-bottom: 0.4em;background-color: white;}#sk-container-id-1 div.sk-label label {font-family: monospace;font-weight: bold;display: inline-block;line-height: 1.2em;}#sk-container-id-1 div.sk-label-container {text-align: center;}#sk-container-id-1 div.sk-container {/* jupyter's `normalize.less` sets `[hidden] { display: none; }` but bootstrap.min.css set `[hidden] { display: none !important; }` so we also need the `!important` here to be able to override the default hidden behavior on the sphinx rendered scikit-learn.org. See: https://github.com/scikit-learn/scikit-learn/issues/21755 */display: inline-block !important;position: relative;}#sk-container-id-1 div.sk-text-repr-fallback {display: none;}</style><div id=\"sk-container-id-1\" class=\"sk-top-container\"><div class=\"sk-text-repr-fallback\"><pre>StackingClassifier(cv=5,\n",
       "                   estimators=[(&#x27;model1&#x27;,\n",
       "                                Pipeline(steps=[(&#x27;processor&#x27;,\n",
       "                                                 ColumnTransformer(transformers=[(&#x27;numerical_pipeline&#x27;,\n",
       "                                                                                  Pipeline(steps=[(&#x27;imputer&#x27;,\n",
       "                                                                                                   SimpleImputer(fill_value=-1,\n",
       "                                                                                                                 strategy=&#x27;median&#x27;)),\n",
       "                                                                                                  (&#x27;scaler&#x27;,\n",
       "                                                                                                   RobustScaler(with_centering=False,\n",
       "                                                                                                                with_scaling=False))]),\n",
       "                                                                                  [&#x27;CustomerId&#x27;,\n",
       "                                                                                   &#x27;CreditScore&#x27;,\n",
       "                                                                                   &#x27;Age&#x27;,\n",
       "                                                                                   &#x27;Tenure&#x27;,\n",
       "                                                                                   &#x27;Balance&#x27;,\n",
       "                                                                                   &#x27;NumOfProducts&#x27;,\n",
       "                                                                                   &#x27;HasCrCard...\n",
       "                                                                                                                 strategy=&#x27;most_frequent&#x27;)),\n",
       "                                                                                                  (&#x27;encoder&#x27;,\n",
       "                                                                                                   WOEEncoder(regularization=0.9131708454111955,\n",
       "                                                                                                              sigma=0.5061308987241582))]),\n",
       "                                                                                  [&#x27;Geography&#x27;,\n",
       "                                                                                   &#x27;Gender&#x27;])])),\n",
       "                                                [&#x27;LogR&#x27;,\n",
       "                                                 LogisticRegression(C=1.0827852350663947,\n",
       "                                                                    max_iter=5973,\n",
       "                                                                    tol=0.0032674314134142203)]]))],\n",
       "                   final_estimator=ExtraTreesClassifier(max_depth=6,\n",
       "                                                        max_features=0.815431846329508,\n",
       "                                                        n_estimators=276,\n",
       "                                                        n_jobs=-1,\n",
       "                                                        random_state=42))</pre><b>In a Jupyter environment, please rerun this cell to show the HTML representation or trust the notebook. <br />On GitHub, the HTML representation is unable to render, please try loading this page with nbviewer.org.</b></div><div class=\"sk-container\" hidden><div class=\"sk-item sk-dashed-wrapped\"><div class=\"sk-label-container\"><div class=\"sk-label sk-toggleable\"><input class=\"sk-toggleable__control sk-hidden--visually\" id=\"sk-estimator-id-1\" type=\"checkbox\" ><label for=\"sk-estimator-id-1\" class=\"sk-toggleable__label sk-toggleable__label-arrow\">StackingClassifier</label><div class=\"sk-toggleable__content\"><pre>StackingClassifier(cv=5,\n",
       "                   estimators=[(&#x27;model1&#x27;,\n",
       "                                Pipeline(steps=[(&#x27;processor&#x27;,\n",
       "                                                 ColumnTransformer(transformers=[(&#x27;numerical_pipeline&#x27;,\n",
       "                                                                                  Pipeline(steps=[(&#x27;imputer&#x27;,\n",
       "                                                                                                   SimpleImputer(fill_value=-1,\n",
       "                                                                                                                 strategy=&#x27;median&#x27;)),\n",
       "                                                                                                  (&#x27;scaler&#x27;,\n",
       "                                                                                                   RobustScaler(with_centering=False,\n",
       "                                                                                                                with_scaling=False))]),\n",
       "                                                                                  [&#x27;CustomerId&#x27;,\n",
       "                                                                                   &#x27;CreditScore&#x27;,\n",
       "                                                                                   &#x27;Age&#x27;,\n",
       "                                                                                   &#x27;Tenure&#x27;,\n",
       "                                                                                   &#x27;Balance&#x27;,\n",
       "                                                                                   &#x27;NumOfProducts&#x27;,\n",
       "                                                                                   &#x27;HasCrCard...\n",
       "                                                                                                                 strategy=&#x27;most_frequent&#x27;)),\n",
       "                                                                                                  (&#x27;encoder&#x27;,\n",
       "                                                                                                   WOEEncoder(regularization=0.9131708454111955,\n",
       "                                                                                                              sigma=0.5061308987241582))]),\n",
       "                                                                                  [&#x27;Geography&#x27;,\n",
       "                                                                                   &#x27;Gender&#x27;])])),\n",
       "                                                [&#x27;LogR&#x27;,\n",
       "                                                 LogisticRegression(C=1.0827852350663947,\n",
       "                                                                    max_iter=5973,\n",
       "                                                                    tol=0.0032674314134142203)]]))],\n",
       "                   final_estimator=ExtraTreesClassifier(max_depth=6,\n",
       "                                                        max_features=0.815431846329508,\n",
       "                                                        n_estimators=276,\n",
       "                                                        n_jobs=-1,\n",
       "                                                        random_state=42))</pre></div></div></div><div class=\"sk-serial\"><div class=\"sk-item\"><div class=\"sk-parallel\"><div class=\"sk-parallel-item\"><div class=\"sk-item\"><div class=\"sk-label-container\"><div class=\"sk-label sk-toggleable\"><label>model1</label></div></div><div class=\"sk-serial\"><div class=\"sk-item\"><div class=\"sk-serial\"><div class=\"sk-item sk-dashed-wrapped\"><div class=\"sk-label-container\"><div class=\"sk-label sk-toggleable\"><input class=\"sk-toggleable__control sk-hidden--visually\" id=\"sk-estimator-id-2\" type=\"checkbox\" ><label for=\"sk-estimator-id-2\" class=\"sk-toggleable__label sk-toggleable__label-arrow\">processor: ColumnTransformer</label><div class=\"sk-toggleable__content\"><pre>ColumnTransformer(transformers=[(&#x27;numerical_pipeline&#x27;,\n",
       "                                 Pipeline(steps=[(&#x27;imputer&#x27;,\n",
       "                                                  SimpleImputer(fill_value=-1,\n",
       "                                                                strategy=&#x27;median&#x27;)),\n",
       "                                                 (&#x27;scaler&#x27;,\n",
       "                                                  RobustScaler(with_centering=False,\n",
       "                                                               with_scaling=False))]),\n",
       "                                 [&#x27;CustomerId&#x27;, &#x27;CreditScore&#x27;, &#x27;Age&#x27;, &#x27;Tenure&#x27;,\n",
       "                                  &#x27;Balance&#x27;, &#x27;NumOfProducts&#x27;, &#x27;HasCrCard&#x27;,\n",
       "                                  &#x27;IsActiveMember&#x27;, &#x27;EstimatedSalary&#x27;]),\n",
       "                                (&#x27;categorical_pipeline&#x27;,\n",
       "                                 Pipeline(steps=[(&#x27;imputer&#x27;,\n",
       "                                                  SimpleImputer(fill_value=&#x27;missing&#x27;,\n",
       "                                                                strategy=&#x27;most_frequent&#x27;)),\n",
       "                                                 (&#x27;encoder&#x27;,\n",
       "                                                  WOEEncoder(regularization=0.9131708454111955,\n",
       "                                                             sigma=0.5061308987241582))]),\n",
       "                                 [&#x27;Geography&#x27;, &#x27;Gender&#x27;])])</pre></div></div></div><div class=\"sk-parallel\"><div class=\"sk-parallel-item\"><div class=\"sk-item\"><div class=\"sk-label-container\"><div class=\"sk-label sk-toggleable\"><input class=\"sk-toggleable__control sk-hidden--visually\" id=\"sk-estimator-id-3\" type=\"checkbox\" ><label for=\"sk-estimator-id-3\" class=\"sk-toggleable__label sk-toggleable__label-arrow\">numerical_pipeline</label><div class=\"sk-toggleable__content\"><pre>[&#x27;CustomerId&#x27;, &#x27;CreditScore&#x27;, &#x27;Age&#x27;, &#x27;Tenure&#x27;, &#x27;Balance&#x27;, &#x27;NumOfProducts&#x27;, &#x27;HasCrCard&#x27;, &#x27;IsActiveMember&#x27;, &#x27;EstimatedSalary&#x27;]</pre></div></div></div><div class=\"sk-serial\"><div class=\"sk-item\"><div class=\"sk-serial\"><div class=\"sk-item\"><div class=\"sk-estimator sk-toggleable\"><input class=\"sk-toggleable__control sk-hidden--visually\" id=\"sk-estimator-id-4\" type=\"checkbox\" ><label for=\"sk-estimator-id-4\" class=\"sk-toggleable__label sk-toggleable__label-arrow\">SimpleImputer</label><div class=\"sk-toggleable__content\"><pre>SimpleImputer(fill_value=-1, strategy=&#x27;median&#x27;)</pre></div></div></div><div class=\"sk-item\"><div class=\"sk-estimator sk-toggleable\"><input class=\"sk-toggleable__control sk-hidden--visually\" id=\"sk-estimator-id-5\" type=\"checkbox\" ><label for=\"sk-estimator-id-5\" class=\"sk-toggleable__label sk-toggleable__label-arrow\">RobustScaler</label><div class=\"sk-toggleable__content\"><pre>RobustScaler(with_centering=False, with_scaling=False)</pre></div></div></div></div></div></div></div></div><div class=\"sk-parallel-item\"><div class=\"sk-item\"><div class=\"sk-label-container\"><div class=\"sk-label sk-toggleable\"><input class=\"sk-toggleable__control sk-hidden--visually\" id=\"sk-estimator-id-6\" type=\"checkbox\" ><label for=\"sk-estimator-id-6\" class=\"sk-toggleable__label sk-toggleable__label-arrow\">categorical_pipeline</label><div class=\"sk-toggleable__content\"><pre>[&#x27;Geography&#x27;, &#x27;Gender&#x27;]</pre></div></div></div><div class=\"sk-serial\"><div class=\"sk-item\"><div class=\"sk-serial\"><div class=\"sk-item\"><div class=\"sk-estimator sk-toggleable\"><input class=\"sk-toggleable__control sk-hidden--visually\" id=\"sk-estimator-id-7\" type=\"checkbox\" ><label for=\"sk-estimator-id-7\" class=\"sk-toggleable__label sk-toggleable__label-arrow\">SimpleImputer</label><div class=\"sk-toggleable__content\"><pre>SimpleImputer(fill_value=&#x27;missing&#x27;, strategy=&#x27;most_frequent&#x27;)</pre></div></div></div><div class=\"sk-item\"><div class=\"sk-estimator sk-toggleable\"><input class=\"sk-toggleable__control sk-hidden--visually\" id=\"sk-estimator-id-8\" type=\"checkbox\" ><label for=\"sk-estimator-id-8\" class=\"sk-toggleable__label sk-toggleable__label-arrow\">WOEEncoder</label><div class=\"sk-toggleable__content\"><pre>WOEEncoder(regularization=0.9131708454111955, sigma=0.5061308987241582)</pre></div></div></div></div></div></div></div></div></div></div><div class=\"sk-item\"><div class=\"sk-estimator sk-toggleable\"><input class=\"sk-toggleable__control sk-hidden--visually\" id=\"sk-estimator-id-9\" type=\"checkbox\" ><label for=\"sk-estimator-id-9\" class=\"sk-toggleable__label sk-toggleable__label-arrow\">XGBClassifier</label><div class=\"sk-toggleable__content\"><pre>XGBClassifier(alpha=0.005109851856729309, base_score=None, booster=None,\n",
       "              callbacks=None, colsample_bylevel=None, colsample_bynode=None,\n",
       "              colsample_bytree=None, device=None, early_stopping_rounds=None,\n",
       "              enable_categorical=False, eta=0.005801612118752712,\n",
       "              eval_metric=&#x27;auc&#x27;, feature_types=None,\n",
       "              gamma=9.016383631650964e-07, grow_policy=None,\n",
       "              importance_type=None, interaction_constraints=None,\n",
       "              lambda=2.8568825005909486e-05, learning_rate=0.35435152425844973,\n",
       "              max_bin=None, max_cat_threshold=None, max_cat_to_onehot=None,\n",
       "              max_delta_step=None, max_depth=10, max_leaves=None,\n",
       "              min_child_weight=None, missing=nan, monotone_constraints=None,\n",
       "              multi_strategy=None, n_estimators=626, ...)</pre></div></div></div></div></div></div></div></div><div class=\"sk-parallel-item\"><div class=\"sk-item\"><div class=\"sk-label-container\"><div class=\"sk-label sk-toggleable\"><label>model2</label></div></div><div class=\"sk-serial\"><div class=\"sk-item\"><div class=\"sk-serial\"><div class=\"sk-item sk-dashed-wrapped\"><div class=\"sk-label-container\"><div class=\"sk-label sk-toggleable\"><input class=\"sk-toggleable__control sk-hidden--visually\" id=\"sk-estimator-id-10\" type=\"checkbox\" ><label for=\"sk-estimator-id-10\" class=\"sk-toggleable__label sk-toggleable__label-arrow\">processor: ColumnTransformer</label><div class=\"sk-toggleable__content\"><pre>ColumnTransformer(transformers=[(&#x27;numerical_pipeline&#x27;,\n",
       "                                 Pipeline(steps=[(&#x27;imputer&#x27;,\n",
       "                                                  SimpleImputer(fill_value=-1,\n",
       "                                                                strategy=&#x27;median&#x27;)),\n",
       "                                                 (&#x27;scaler&#x27;,\n",
       "                                                  RobustScaler(with_centering=False,\n",
       "                                                               with_scaling=False))]),\n",
       "                                 [&#x27;CustomerId&#x27;, &#x27;CreditScore&#x27;, &#x27;Age&#x27;, &#x27;Tenure&#x27;,\n",
       "                                  &#x27;Balance&#x27;, &#x27;NumOfProducts&#x27;, &#x27;HasCrCard&#x27;,\n",
       "                                  &#x27;IsActiveMember&#x27;, &#x27;EstimatedSalary&#x27;]),\n",
       "                                (&#x27;categorical_pipeline&#x27;,\n",
       "                                 Pipeline(steps=[(&#x27;imputer&#x27;,\n",
       "                                                  SimpleImputer(fill_value=&#x27;missing&#x27;,\n",
       "                                                                strategy=&#x27;most_frequent&#x27;)),\n",
       "                                                 (&#x27;encoder&#x27;,\n",
       "                                                  WOEEncoder(regularization=0.9131708454111955,\n",
       "                                                             sigma=0.5061308987241582))]),\n",
       "                                 [&#x27;Geography&#x27;, &#x27;Gender&#x27;])])</pre></div></div></div><div class=\"sk-parallel\"><div class=\"sk-parallel-item\"><div class=\"sk-item\"><div class=\"sk-label-container\"><div class=\"sk-label sk-toggleable\"><input class=\"sk-toggleable__control sk-hidden--visually\" id=\"sk-estimator-id-11\" type=\"checkbox\" ><label for=\"sk-estimator-id-11\" class=\"sk-toggleable__label sk-toggleable__label-arrow\">numerical_pipeline</label><div class=\"sk-toggleable__content\"><pre>[&#x27;CustomerId&#x27;, &#x27;CreditScore&#x27;, &#x27;Age&#x27;, &#x27;Tenure&#x27;, &#x27;Balance&#x27;, &#x27;NumOfProducts&#x27;, &#x27;HasCrCard&#x27;, &#x27;IsActiveMember&#x27;, &#x27;EstimatedSalary&#x27;]</pre></div></div></div><div class=\"sk-serial\"><div class=\"sk-item\"><div class=\"sk-serial\"><div class=\"sk-item\"><div class=\"sk-estimator sk-toggleable\"><input class=\"sk-toggleable__control sk-hidden--visually\" id=\"sk-estimator-id-12\" type=\"checkbox\" ><label for=\"sk-estimator-id-12\" class=\"sk-toggleable__label sk-toggleable__label-arrow\">SimpleImputer</label><div class=\"sk-toggleable__content\"><pre>SimpleImputer(fill_value=-1, strategy=&#x27;median&#x27;)</pre></div></div></div><div class=\"sk-item\"><div class=\"sk-estimator sk-toggleable\"><input class=\"sk-toggleable__control sk-hidden--visually\" id=\"sk-estimator-id-13\" type=\"checkbox\" ><label for=\"sk-estimator-id-13\" class=\"sk-toggleable__label sk-toggleable__label-arrow\">RobustScaler</label><div class=\"sk-toggleable__content\"><pre>RobustScaler(with_centering=False, with_scaling=False)</pre></div></div></div></div></div></div></div></div><div class=\"sk-parallel-item\"><div class=\"sk-item\"><div class=\"sk-label-container\"><div class=\"sk-label sk-toggleable\"><input class=\"sk-toggleable__control sk-hidden--visually\" id=\"sk-estimator-id-14\" type=\"checkbox\" ><label for=\"sk-estimator-id-14\" class=\"sk-toggleable__label sk-toggleable__label-arrow\">categorical_pipeline</label><div class=\"sk-toggleable__content\"><pre>[&#x27;Geography&#x27;, &#x27;Gender&#x27;]</pre></div></div></div><div class=\"sk-serial\"><div class=\"sk-item\"><div class=\"sk-serial\"><div class=\"sk-item\"><div class=\"sk-estimator sk-toggleable\"><input class=\"sk-toggleable__control sk-hidden--visually\" id=\"sk-estimator-id-15\" type=\"checkbox\" ><label for=\"sk-estimator-id-15\" class=\"sk-toggleable__label sk-toggleable__label-arrow\">SimpleImputer</label><div class=\"sk-toggleable__content\"><pre>SimpleImputer(fill_value=&#x27;missing&#x27;, strategy=&#x27;most_frequent&#x27;)</pre></div></div></div><div class=\"sk-item\"><div class=\"sk-estimator sk-toggleable\"><input class=\"sk-toggleable__control sk-hidden--visually\" id=\"sk-estimator-id-16\" type=\"checkbox\" ><label for=\"sk-estimator-id-16\" class=\"sk-toggleable__label sk-toggleable__label-arrow\">WOEEncoder</label><div class=\"sk-toggleable__content\"><pre>WOEEncoder(regularization=0.9131708454111955, sigma=0.5061308987241582)</pre></div></div></div></div></div></div></div></div></div></div><div class=\"sk-item\"><div class=\"sk-estimator sk-toggleable\"><input class=\"sk-toggleable__control sk-hidden--visually\" id=\"sk-estimator-id-17\" type=\"checkbox\" ><label for=\"sk-estimator-id-17\" class=\"sk-toggleable__label sk-toggleable__label-arrow\">CatBoostClassifier</label><div class=\"sk-toggleable__content\"><pre>&lt;catboost.core.CatBoostClassifier object at 0x798b1d132020&gt;</pre></div></div></div></div></div></div></div></div><div class=\"sk-parallel-item\"><div class=\"sk-item\"><div class=\"sk-label-container\"><div class=\"sk-label sk-toggleable\"><label>model3</label></div></div><div class=\"sk-serial\"><div class=\"sk-item\"><div class=\"sk-serial\"><div class=\"sk-item sk-dashed-wrapped\"><div class=\"sk-label-container\"><div class=\"sk-label sk-toggleable\"><input class=\"sk-toggleable__control sk-hidden--visually\" id=\"sk-estimator-id-18\" type=\"checkbox\" ><label for=\"sk-estimator-id-18\" class=\"sk-toggleable__label sk-toggleable__label-arrow\">processor: ColumnTransformer</label><div class=\"sk-toggleable__content\"><pre>ColumnTransformer(transformers=[(&#x27;numerical_pipeline&#x27;,\n",
       "                                 Pipeline(steps=[(&#x27;imputer&#x27;,\n",
       "                                                  SimpleImputer(fill_value=-1,\n",
       "                                                                strategy=&#x27;median&#x27;)),\n",
       "                                                 (&#x27;scaler&#x27;,\n",
       "                                                  RobustScaler(with_centering=False,\n",
       "                                                               with_scaling=False))]),\n",
       "                                 [&#x27;CustomerId&#x27;, &#x27;CreditScore&#x27;, &#x27;Age&#x27;, &#x27;Tenure&#x27;,\n",
       "                                  &#x27;Balance&#x27;, &#x27;NumOfProducts&#x27;, &#x27;HasCrCard&#x27;,\n",
       "                                  &#x27;IsActiveMember&#x27;, &#x27;EstimatedSalary&#x27;]),\n",
       "                                (&#x27;categorical_pipeline&#x27;,\n",
       "                                 Pipeline(steps=[(&#x27;imputer&#x27;,\n",
       "                                                  SimpleImputer(fill_value=&#x27;missing&#x27;,\n",
       "                                                                strategy=&#x27;most_frequent&#x27;)),\n",
       "                                                 (&#x27;encoder&#x27;,\n",
       "                                                  WOEEncoder(regularization=0.9131708454111955,\n",
       "                                                             sigma=0.5061308987241582))]),\n",
       "                                 [&#x27;Geography&#x27;, &#x27;Gender&#x27;])])</pre></div></div></div><div class=\"sk-parallel\"><div class=\"sk-parallel-item\"><div class=\"sk-item\"><div class=\"sk-label-container\"><div class=\"sk-label sk-toggleable\"><input class=\"sk-toggleable__control sk-hidden--visually\" id=\"sk-estimator-id-19\" type=\"checkbox\" ><label for=\"sk-estimator-id-19\" class=\"sk-toggleable__label sk-toggleable__label-arrow\">numerical_pipeline</label><div class=\"sk-toggleable__content\"><pre>[&#x27;CustomerId&#x27;, &#x27;CreditScore&#x27;, &#x27;Age&#x27;, &#x27;Tenure&#x27;, &#x27;Balance&#x27;, &#x27;NumOfProducts&#x27;, &#x27;HasCrCard&#x27;, &#x27;IsActiveMember&#x27;, &#x27;EstimatedSalary&#x27;]</pre></div></div></div><div class=\"sk-serial\"><div class=\"sk-item\"><div class=\"sk-serial\"><div class=\"sk-item\"><div class=\"sk-estimator sk-toggleable\"><input class=\"sk-toggleable__control sk-hidden--visually\" id=\"sk-estimator-id-20\" type=\"checkbox\" ><label for=\"sk-estimator-id-20\" class=\"sk-toggleable__label sk-toggleable__label-arrow\">SimpleImputer</label><div class=\"sk-toggleable__content\"><pre>SimpleImputer(fill_value=-1, strategy=&#x27;median&#x27;)</pre></div></div></div><div class=\"sk-item\"><div class=\"sk-estimator sk-toggleable\"><input class=\"sk-toggleable__control sk-hidden--visually\" id=\"sk-estimator-id-21\" type=\"checkbox\" ><label for=\"sk-estimator-id-21\" class=\"sk-toggleable__label sk-toggleable__label-arrow\">RobustScaler</label><div class=\"sk-toggleable__content\"><pre>RobustScaler(with_centering=False, with_scaling=False)</pre></div></div></div></div></div></div></div></div><div class=\"sk-parallel-item\"><div class=\"sk-item\"><div class=\"sk-label-container\"><div class=\"sk-label sk-toggleable\"><input class=\"sk-toggleable__control sk-hidden--visually\" id=\"sk-estimator-id-22\" type=\"checkbox\" ><label for=\"sk-estimator-id-22\" class=\"sk-toggleable__label sk-toggleable__label-arrow\">categorical_pipeline</label><div class=\"sk-toggleable__content\"><pre>[&#x27;Geography&#x27;, &#x27;Gender&#x27;]</pre></div></div></div><div class=\"sk-serial\"><div class=\"sk-item\"><div class=\"sk-serial\"><div class=\"sk-item\"><div class=\"sk-estimator sk-toggleable\"><input class=\"sk-toggleable__control sk-hidden--visually\" id=\"sk-estimator-id-23\" type=\"checkbox\" ><label for=\"sk-estimator-id-23\" class=\"sk-toggleable__label sk-toggleable__label-arrow\">SimpleImputer</label><div class=\"sk-toggleable__content\"><pre>SimpleImputer(fill_value=&#x27;missing&#x27;, strategy=&#x27;most_frequent&#x27;)</pre></div></div></div><div class=\"sk-item\"><div class=\"sk-estimator sk-toggleable\"><input class=\"sk-toggleable__control sk-hidden--visually\" id=\"sk-estimator-id-24\" type=\"checkbox\" ><label for=\"sk-estimator-id-24\" class=\"sk-toggleable__label sk-toggleable__label-arrow\">WOEEncoder</label><div class=\"sk-toggleable__content\"><pre>WOEEncoder(regularization=0.9131708454111955, sigma=0.5061308987241582)</pre></div></div></div></div></div></div></div></div></div></div><div class=\"sk-item\"><div class=\"sk-estimator sk-toggleable\"><input class=\"sk-toggleable__control sk-hidden--visually\" id=\"sk-estimator-id-25\" type=\"checkbox\" ><label for=\"sk-estimator-id-25\" class=\"sk-toggleable__label sk-toggleable__label-arrow\">LGBMClassifier</label><div class=\"sk-toggleable__content\"><pre>LGBMClassifier(colsample_bytree=0.6501457690789654,\n",
       "               learning_rate=0.017852637947762904, max_depth=7, metric=&#x27;auc&#x27;,\n",
       "               min_child_samples=9, min_child_weight=3, n_estimators=656,\n",
       "               random_state=42, reg_alpha=0.6031771192732664,\n",
       "               reg_lambda=0.8535631974964178, subsample=0.10350043889710368,\n",
       "               verbose=-1)</pre></div></div></div></div></div></div></div></div><div class=\"sk-parallel-item\"><div class=\"sk-item\"><div class=\"sk-label-container\"><div class=\"sk-label sk-toggleable\"><label>model4</label></div></div><div class=\"sk-serial\"><div class=\"sk-item\"><div class=\"sk-serial\"><div class=\"sk-item sk-dashed-wrapped\"><div class=\"sk-label-container\"><div class=\"sk-label sk-toggleable\"><input class=\"sk-toggleable__control sk-hidden--visually\" id=\"sk-estimator-id-26\" type=\"checkbox\" ><label for=\"sk-estimator-id-26\" class=\"sk-toggleable__label sk-toggleable__label-arrow\">processor: ColumnTransformer</label><div class=\"sk-toggleable__content\"><pre>ColumnTransformer(transformers=[(&#x27;numerical_pipeline&#x27;,\n",
       "                                 Pipeline(steps=[(&#x27;imputer&#x27;,\n",
       "                                                  SimpleImputer(fill_value=-1,\n",
       "                                                                strategy=&#x27;median&#x27;)),\n",
       "                                                 (&#x27;scaler&#x27;,\n",
       "                                                  RobustScaler(with_centering=False,\n",
       "                                                               with_scaling=False))]),\n",
       "                                 [&#x27;CustomerId&#x27;, &#x27;CreditScore&#x27;, &#x27;Age&#x27;, &#x27;Tenure&#x27;,\n",
       "                                  &#x27;Balance&#x27;, &#x27;NumOfProducts&#x27;, &#x27;HasCrCard&#x27;,\n",
       "                                  &#x27;IsActiveMember&#x27;, &#x27;EstimatedSalary&#x27;]),\n",
       "                                (&#x27;categorical_pipeline&#x27;,\n",
       "                                 Pipeline(steps=[(&#x27;imputer&#x27;,\n",
       "                                                  SimpleImputer(fill_value=&#x27;missing&#x27;,\n",
       "                                                                strategy=&#x27;most_frequent&#x27;)),\n",
       "                                                 (&#x27;encoder&#x27;,\n",
       "                                                  WOEEncoder(regularization=0.9131708454111955,\n",
       "                                                             sigma=0.5061308987241582))]),\n",
       "                                 [&#x27;Geography&#x27;, &#x27;Gender&#x27;])])</pre></div></div></div><div class=\"sk-parallel\"><div class=\"sk-parallel-item\"><div class=\"sk-item\"><div class=\"sk-label-container\"><div class=\"sk-label sk-toggleable\"><input class=\"sk-toggleable__control sk-hidden--visually\" id=\"sk-estimator-id-27\" type=\"checkbox\" ><label for=\"sk-estimator-id-27\" class=\"sk-toggleable__label sk-toggleable__label-arrow\">numerical_pipeline</label><div class=\"sk-toggleable__content\"><pre>[&#x27;CustomerId&#x27;, &#x27;CreditScore&#x27;, &#x27;Age&#x27;, &#x27;Tenure&#x27;, &#x27;Balance&#x27;, &#x27;NumOfProducts&#x27;, &#x27;HasCrCard&#x27;, &#x27;IsActiveMember&#x27;, &#x27;EstimatedSalary&#x27;]</pre></div></div></div><div class=\"sk-serial\"><div class=\"sk-item\"><div class=\"sk-serial\"><div class=\"sk-item\"><div class=\"sk-estimator sk-toggleable\"><input class=\"sk-toggleable__control sk-hidden--visually\" id=\"sk-estimator-id-28\" type=\"checkbox\" ><label for=\"sk-estimator-id-28\" class=\"sk-toggleable__label sk-toggleable__label-arrow\">SimpleImputer</label><div class=\"sk-toggleable__content\"><pre>SimpleImputer(fill_value=-1, strategy=&#x27;median&#x27;)</pre></div></div></div><div class=\"sk-item\"><div class=\"sk-estimator sk-toggleable\"><input class=\"sk-toggleable__control sk-hidden--visually\" id=\"sk-estimator-id-29\" type=\"checkbox\" ><label for=\"sk-estimator-id-29\" class=\"sk-toggleable__label sk-toggleable__label-arrow\">RobustScaler</label><div class=\"sk-toggleable__content\"><pre>RobustScaler(with_centering=False, with_scaling=False)</pre></div></div></div></div></div></div></div></div><div class=\"sk-parallel-item\"><div class=\"sk-item\"><div class=\"sk-label-container\"><div class=\"sk-label sk-toggleable\"><input class=\"sk-toggleable__control sk-hidden--visually\" id=\"sk-estimator-id-30\" type=\"checkbox\" ><label for=\"sk-estimator-id-30\" class=\"sk-toggleable__label sk-toggleable__label-arrow\">categorical_pipeline</label><div class=\"sk-toggleable__content\"><pre>[&#x27;Geography&#x27;, &#x27;Gender&#x27;]</pre></div></div></div><div class=\"sk-serial\"><div class=\"sk-item\"><div class=\"sk-serial\"><div class=\"sk-item\"><div class=\"sk-estimator sk-toggleable\"><input class=\"sk-toggleable__control sk-hidden--visually\" id=\"sk-estimator-id-31\" type=\"checkbox\" ><label for=\"sk-estimator-id-31\" class=\"sk-toggleable__label sk-toggleable__label-arrow\">SimpleImputer</label><div class=\"sk-toggleable__content\"><pre>SimpleImputer(fill_value=&#x27;missing&#x27;, strategy=&#x27;most_frequent&#x27;)</pre></div></div></div><div class=\"sk-item\"><div class=\"sk-estimator sk-toggleable\"><input class=\"sk-toggleable__control sk-hidden--visually\" id=\"sk-estimator-id-32\" type=\"checkbox\" ><label for=\"sk-estimator-id-32\" class=\"sk-toggleable__label sk-toggleable__label-arrow\">WOEEncoder</label><div class=\"sk-toggleable__content\"><pre>WOEEncoder(regularization=0.9131708454111955, sigma=0.5061308987241582)</pre></div></div></div></div></div></div></div></div></div></div><div class=\"sk-item\"><div class=\"sk-estimator sk-toggleable\"><input class=\"sk-toggleable__control sk-hidden--visually\" id=\"sk-estimator-id-33\" type=\"checkbox\" ><label for=\"sk-estimator-id-33\" class=\"sk-toggleable__label sk-toggleable__label-arrow\">LogisticRegression</label><div class=\"sk-toggleable__content\"><pre>LogisticRegression(C=1.0827852350663947, max_iter=5973,\n",
       "                   tol=0.0032674314134142203)</pre></div></div></div></div></div></div></div></div></div></div><div class=\"sk-item\"><div class=\"sk-parallel\"><div class=\"sk-parallel-item\"><div class=\"sk-item\"><div class=\"sk-label-container\"><div class=\"sk-label sk-toggleable\"><label>final_estimator</label></div></div><div class=\"sk-serial\"><div class=\"sk-item\"><div class=\"sk-estimator sk-toggleable\"><input class=\"sk-toggleable__control sk-hidden--visually\" id=\"sk-estimator-id-34\" type=\"checkbox\" ><label for=\"sk-estimator-id-34\" class=\"sk-toggleable__label sk-toggleable__label-arrow\">ExtraTreesClassifier</label><div class=\"sk-toggleable__content\"><pre>ExtraTreesClassifier(max_depth=6, max_features=0.815431846329508,\n",
       "                     n_estimators=276, n_jobs=-1, random_state=42)</pre></div></div></div></div></div></div></div></div></div></div></div></div>"
      ],
      "text/plain": [
       "StackingClassifier(cv=5,\n",
       "                   estimators=[('model1',\n",
       "                                Pipeline(steps=[('processor',\n",
       "                                                 ColumnTransformer(transformers=[('numerical_pipeline',\n",
       "                                                                                  Pipeline(steps=[('imputer',\n",
       "                                                                                                   SimpleImputer(fill_value=-1,\n",
       "                                                                                                                 strategy='median')),\n",
       "                                                                                                  ('scaler',\n",
       "                                                                                                   RobustScaler(with_centering=False,\n",
       "                                                                                                                with_scaling=False))]),\n",
       "                                                                                  ['CustomerId',\n",
       "                                                                                   'CreditScore',\n",
       "                                                                                   'Age',\n",
       "                                                                                   'Tenure',\n",
       "                                                                                   'Balance',\n",
       "                                                                                   'NumOfProducts',\n",
       "                                                                                   'HasCrCard...\n",
       "                                                                                                                 strategy='most_frequent')),\n",
       "                                                                                                  ('encoder',\n",
       "                                                                                                   WOEEncoder(regularization=0.9131708454111955,\n",
       "                                                                                                              sigma=0.5061308987241582))]),\n",
       "                                                                                  ['Geography',\n",
       "                                                                                   'Gender'])])),\n",
       "                                                ['LogR',\n",
       "                                                 LogisticRegression(C=1.0827852350663947,\n",
       "                                                                    max_iter=5973,\n",
       "                                                                    tol=0.0032674314134142203)]]))],\n",
       "                   final_estimator=ExtraTreesClassifier(max_depth=6,\n",
       "                                                        max_features=0.815431846329508,\n",
       "                                                        n_estimators=276,\n",
       "                                                        n_jobs=-1,\n",
       "                                                        random_state=42))"
      ]
     },
     "execution_count": 19,
     "metadata": {},
     "output_type": "execute_result"
    }
   ],
   "source": [
    "\n",
    "best_trial = study.best_trial\n",
    "numerical_columns = [\n",
    "      *X.select_dtypes(exclude=['object', 'category']).columns\n",
    "    ]\n",
    "categorical_columns = [\n",
    "      *X.select_dtypes(include=['object', 'category']).columns\n",
    "    ]\n",
    "  \n",
    "# model = instantiate_model(best_trial, numerical_columns, categorical_columns, \"LogR\")\n",
    "model=instantiate_stacker(best_trial, numerical_columns, categorical_columns)\n",
    "model.fit(X_train, y_train)"
   ]
  },
  {
   "cell_type": "code",
   "execution_count": 20,
   "id": "33aa8b2f",
   "metadata": {
    "execution": {
     "iopub.execute_input": "2024-02-27T15:26:33.428376Z",
     "iopub.status.busy": "2024-02-27T15:26:33.427265Z",
     "iopub.status.idle": "2024-02-27T15:26:35.863720Z",
     "shell.execute_reply": "2024-02-27T15:26:35.862407Z"
    },
    "papermill": {
     "duration": 2.449948,
     "end_time": "2024-02-27T15:26:35.866362",
     "exception": false,
     "start_time": "2024-02-27T15:26:33.416414",
     "status": "completed"
    },
    "tags": []
   },
   "outputs": [
    {
     "name": "stdout",
     "output_type": "stream",
     "text": [
      "0.8917870424278663\n"
     ]
    }
   ],
   "source": [
    "probabilities = model.predict_proba(X_test)[:, 1]\n",
    "score = roc_auc_score(y_test, probabilities)\n",
    "print(score)"
   ]
  },
  {
   "cell_type": "code",
   "execution_count": 21,
   "id": "4079b01f",
   "metadata": {
    "execution": {
     "iopub.execute_input": "2024-02-27T15:26:35.887164Z",
     "iopub.status.busy": "2024-02-27T15:26:35.886718Z",
     "iopub.status.idle": "2024-02-27T15:26:50.055290Z",
     "shell.execute_reply": "2024-02-27T15:26:50.054108Z"
    },
    "papermill": {
     "duration": 14.182449,
     "end_time": "2024-02-27T15:26:50.058306",
     "exception": false,
     "start_time": "2024-02-27T15:26:35.875857",
     "status": "completed"
    },
    "tags": []
   },
   "outputs": [],
   "source": [
    "test_prediction = model.predict_proba(test)\n",
    "test_prediction = pd.DataFrame(test_prediction, columns=('Not','Exited'))"
   ]
  },
  {
   "cell_type": "code",
   "execution_count": 22,
   "id": "fee2040a",
   "metadata": {
    "execution": {
     "iopub.execute_input": "2024-02-27T15:26:50.079026Z",
     "iopub.status.busy": "2024-02-27T15:26:50.078582Z",
     "iopub.status.idle": "2024-02-27T15:26:50.607364Z",
     "shell.execute_reply": "2024-02-27T15:26:50.606060Z"
    },
    "papermill": {
     "duration": 0.542712,
     "end_time": "2024-02-27T15:26:50.610458",
     "exception": false,
     "start_time": "2024-02-27T15:26:50.067746",
     "status": "completed"
    },
    "tags": []
   },
   "outputs": [],
   "source": [
    "submission = pd.read_csv('/kaggle/input/playground-series-s4e1/sample_submission.csv')\n",
    "submission[['Exited']]= test_prediction[['Exited']]\n",
    "submission.to_csv('submission.csv', index=False)"
   ]
  }
 ],
 "metadata": {
  "kaggle": {
   "accelerator": "none",
   "dataSources": [
    {
     "databundleVersionId": 7405009,
     "sourceId": 65711,
     "sourceType": "competition"
    },
    {
     "datasetId": 3191230,
     "sourceId": 5536933,
     "sourceType": "datasetVersion"
    }
   ],
   "dockerImageVersionId": 30627,
   "isGpuEnabled": false,
   "isInternetEnabled": true,
   "language": "python",
   "sourceType": "notebook"
  },
  "kernelspec": {
   "display_name": "Python 3",
   "language": "python",
   "name": "python3"
  },
  "language_info": {
   "codemirror_mode": {
    "name": "ipython",
    "version": 3
   },
   "file_extension": ".py",
   "mimetype": "text/x-python",
   "name": "python",
   "nbconvert_exporter": "python",
   "pygments_lexer": "ipython3",
   "version": "3.10.12"
  },
  "papermill": {
   "default_parameters": {},
   "duration": 901.062264,
   "end_time": "2024-02-27T15:26:51.646584",
   "environment_variables": {},
   "exception": null,
   "input_path": "__notebook__.ipynb",
   "output_path": "__notebook__.ipynb",
   "parameters": {},
   "start_time": "2024-02-27T15:11:50.584320",
   "version": "2.4.0"
  }
 },
 "nbformat": 4,
 "nbformat_minor": 5
}
